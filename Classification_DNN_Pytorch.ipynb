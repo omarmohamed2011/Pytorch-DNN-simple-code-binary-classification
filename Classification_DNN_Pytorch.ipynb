{
  "nbformat": 4,
  "nbformat_minor": 0,
  "metadata": {
    "colab": {
      "name": "Classification_DNN_Pytorch.ipynb",
      "provenance": [],
      "collapsed_sections": []
    },
    "kernelspec": {
      "name": "python3",
      "display_name": "Python 3"
    }
  },
  "cells": [
    {
      "cell_type": "markdown",
      "metadata": {
        "id": "YOlk7V_M2hWu",
        "colab_type": "text"
      },
      "source": [
        "## 1. Libraries importing\n",
        "Here we imported the pytorch library and required tools as we imported pandas for dataset manipulation."
      ]
    },
    {
      "cell_type": "code",
      "metadata": {
        "id": "81keyMHJRzcM",
        "colab_type": "code",
        "colab": {}
      },
      "source": [
        "import pandas as pd\n",
        "import torch\n",
        "import torch.nn as nn\n",
        "import torch.nn.functional as F\n",
        "import torch.optim as optim"
      ],
      "execution_count": 1,
      "outputs": []
    },
    {
      "cell_type": "markdown",
      "metadata": {
        "id": "uqTgDwAb23Qt",
        "colab_type": "text"
      },
      "source": [
        "## This code is a simple application for a DNN implemented using Pytorch.\n",
        "The pytorch network here is used for classification and here is the steps and how we define it :\n",
        "# 1. Create a class for the network.\n",
        "\n",
        "    class binaryClassification(nn.Module):\n",
        "   -> Then : \n",
        "    \n",
        "    def __init__(self):\n",
        "    super(binaryClassification, self).__init__()\n",
        "\n",
        "# 2. Define the layers needed in the netword. \n",
        "    \n",
        "    self.layer_1 = nn.Linear(1, 64) \n",
        "    self.layer_2 = nn.Linear(64, 64)\n",
        "    self.layer_out = nn.Linear(64, 1) \n",
        "        \n",
        "    self.relu = nn.ReLU()\n",
        "    self.dropout = nn.Dropout(p=0.1)\n",
        "    self.batchnorm1 = nn.BatchNorm1d(64)\n",
        "    self.batchnorm2 = nn.BatchNorm1d(64)\n",
        "\n",
        "# 3. Define the 'forward' method in order to put the layers in their order.\n",
        "        \n",
        "    def forward(self, inputs):\n",
        "           x = self.relu(self.layer_1(inputs))\n",
        "           x = self.batchnorm1(x)\n",
        "           x = self.relu(self.layer_2(x))\n",
        "           x = self.batchnorm2(x)\n",
        "           x = self.dropout(x)\n",
        "           x = self.layer_out(x)\n",
        "        \n",
        "           return x"
      ]
    },
    {
      "cell_type": "markdown",
      "metadata": {
        "id": "wA76fw2O5BqU",
        "colab_type": "text"
      },
      "source": [
        "## 2. Import the dataset"
      ]
    },
    {
      "cell_type": "code",
      "metadata": {
        "id": "EipXKRDaTt0i",
        "colab_type": "code",
        "colab": {
          "base_uri": "https://localhost:8080/",
          "height": 190
        },
        "outputId": "56d79442-cc90-46b0-8df6-53e8a17b7800"
      },
      "source": [
        "data = pd.read_csv('/content/Social_Network_Ads.csv')\n",
        "data = data[['Age','EstimatedSalary','Gender','Purchased']]\n",
        "data.head()"
      ],
      "execution_count": 2,
      "outputs": [
        {
          "output_type": "execute_result",
          "data": {
            "text/html": [
              "<div>\n",
              "<style scoped>\n",
              "    .dataframe tbody tr th:only-of-type {\n",
              "        vertical-align: middle;\n",
              "    }\n",
              "\n",
              "    .dataframe tbody tr th {\n",
              "        vertical-align: top;\n",
              "    }\n",
              "\n",
              "    .dataframe thead th {\n",
              "        text-align: right;\n",
              "    }\n",
              "</style>\n",
              "<table border=\"1\" class=\"dataframe\">\n",
              "  <thead>\n",
              "    <tr style=\"text-align: right;\">\n",
              "      <th></th>\n",
              "      <th>Age</th>\n",
              "      <th>EstimatedSalary</th>\n",
              "      <th>Gender</th>\n",
              "      <th>Purchased</th>\n",
              "    </tr>\n",
              "  </thead>\n",
              "  <tbody>\n",
              "    <tr>\n",
              "      <th>0</th>\n",
              "      <td>19</td>\n",
              "      <td>19000</td>\n",
              "      <td>Male</td>\n",
              "      <td>0</td>\n",
              "    </tr>\n",
              "    <tr>\n",
              "      <th>1</th>\n",
              "      <td>35</td>\n",
              "      <td>20000</td>\n",
              "      <td>Male</td>\n",
              "      <td>0</td>\n",
              "    </tr>\n",
              "    <tr>\n",
              "      <th>2</th>\n",
              "      <td>26</td>\n",
              "      <td>43000</td>\n",
              "      <td>Female</td>\n",
              "      <td>0</td>\n",
              "    </tr>\n",
              "    <tr>\n",
              "      <th>3</th>\n",
              "      <td>27</td>\n",
              "      <td>57000</td>\n",
              "      <td>Female</td>\n",
              "      <td>0</td>\n",
              "    </tr>\n",
              "    <tr>\n",
              "      <th>4</th>\n",
              "      <td>19</td>\n",
              "      <td>76000</td>\n",
              "      <td>Male</td>\n",
              "      <td>0</td>\n",
              "    </tr>\n",
              "  </tbody>\n",
              "</table>\n",
              "</div>"
            ],
            "text/plain": [
              "   Age  EstimatedSalary  Gender  Purchased\n",
              "0   19            19000    Male          0\n",
              "1   35            20000    Male          0\n",
              "2   26            43000  Female          0\n",
              "3   27            57000  Female          0\n",
              "4   19            76000    Male          0"
            ]
          },
          "metadata": {
            "tags": []
          },
          "execution_count": 2
        }
      ]
    },
    {
      "cell_type": "code",
      "metadata": {
        "id": "EQyQnHx7UUq7",
        "colab_type": "code",
        "colab": {}
      },
      "source": [
        "data2 = pd.get_dummies(data['Gender'])\n",
        "data['Gender'] = data2['Male']"
      ],
      "execution_count": 3,
      "outputs": []
    },
    {
      "cell_type": "code",
      "metadata": {
        "id": "RZr-ABWoWD6J",
        "colab_type": "code",
        "colab": {
          "base_uri": "https://localhost:8080/",
          "height": 190
        },
        "outputId": "d4a25447-fffc-451c-ad4f-335ad6a868b9"
      },
      "source": [
        "data.head()"
      ],
      "execution_count": 4,
      "outputs": [
        {
          "output_type": "execute_result",
          "data": {
            "text/html": [
              "<div>\n",
              "<style scoped>\n",
              "    .dataframe tbody tr th:only-of-type {\n",
              "        vertical-align: middle;\n",
              "    }\n",
              "\n",
              "    .dataframe tbody tr th {\n",
              "        vertical-align: top;\n",
              "    }\n",
              "\n",
              "    .dataframe thead th {\n",
              "        text-align: right;\n",
              "    }\n",
              "</style>\n",
              "<table border=\"1\" class=\"dataframe\">\n",
              "  <thead>\n",
              "    <tr style=\"text-align: right;\">\n",
              "      <th></th>\n",
              "      <th>Age</th>\n",
              "      <th>EstimatedSalary</th>\n",
              "      <th>Gender</th>\n",
              "      <th>Purchased</th>\n",
              "    </tr>\n",
              "  </thead>\n",
              "  <tbody>\n",
              "    <tr>\n",
              "      <th>0</th>\n",
              "      <td>19</td>\n",
              "      <td>19000</td>\n",
              "      <td>1</td>\n",
              "      <td>0</td>\n",
              "    </tr>\n",
              "    <tr>\n",
              "      <th>1</th>\n",
              "      <td>35</td>\n",
              "      <td>20000</td>\n",
              "      <td>1</td>\n",
              "      <td>0</td>\n",
              "    </tr>\n",
              "    <tr>\n",
              "      <th>2</th>\n",
              "      <td>26</td>\n",
              "      <td>43000</td>\n",
              "      <td>0</td>\n",
              "      <td>0</td>\n",
              "    </tr>\n",
              "    <tr>\n",
              "      <th>3</th>\n",
              "      <td>27</td>\n",
              "      <td>57000</td>\n",
              "      <td>0</td>\n",
              "      <td>0</td>\n",
              "    </tr>\n",
              "    <tr>\n",
              "      <th>4</th>\n",
              "      <td>19</td>\n",
              "      <td>76000</td>\n",
              "      <td>1</td>\n",
              "      <td>0</td>\n",
              "    </tr>\n",
              "  </tbody>\n",
              "</table>\n",
              "</div>"
            ],
            "text/plain": [
              "   Age  EstimatedSalary  Gender  Purchased\n",
              "0   19            19000       1          0\n",
              "1   35            20000       1          0\n",
              "2   26            43000       0          0\n",
              "3   27            57000       0          0\n",
              "4   19            76000       1          0"
            ]
          },
          "metadata": {
            "tags": []
          },
          "execution_count": 4
        }
      ]
    },
    {
      "cell_type": "markdown",
      "metadata": {
        "id": "6WaMA9BM5L52",
        "colab_type": "text"
      },
      "source": [
        "## 3. Creating the training and test sets"
      ]
    },
    {
      "cell_type": "code",
      "metadata": {
        "id": "7ynk5a9lYlRR",
        "colab_type": "code",
        "colab": {}
      },
      "source": [
        "X = data[['Age','EstimatedSalary','Gender']]\n",
        "y = data['Purchased']\n",
        "X = X.values\n",
        "y = y.values"
      ],
      "execution_count": 46,
      "outputs": []
    },
    {
      "cell_type": "code",
      "metadata": {
        "id": "x-FlXwpUcj_f",
        "colab_type": "code",
        "colab": {}
      },
      "source": [
        "from sklearn.model_selection import train_test_split\n",
        "X_train, X_test, y_train, y_test = train_test_split(X, y, test_size=0.33, random_state=69)"
      ],
      "execution_count": 47,
      "outputs": []
    },
    {
      "cell_type": "code",
      "metadata": {
        "id": "D0hZLHJCeIOS",
        "colab_type": "code",
        "colab": {}
      },
      "source": [
        "from sklearn.preprocessing import StandardScaler    \n",
        "scaler = StandardScaler()\n",
        "X_train = scaler.fit_transform(X_train)\n",
        "X_test = scaler.fit_transform(X_test)"
      ],
      "execution_count": 48,
      "outputs": []
    },
    {
      "cell_type": "code",
      "metadata": {
        "id": "whW8lzGzrc6n",
        "colab_type": "code",
        "colab": {
          "base_uri": "https://localhost:8080/",
          "height": 100
        },
        "outputId": "f63afd10-54d2-4032-caf1-88f573f76614"
      },
      "source": [
        "X_test[:5]"
      ],
      "execution_count": 49,
      "outputs": [
        {
          "output_type": "execute_result",
          "data": {
            "text/plain": [
              "array([[ 0.84621676, -1.45270451, -0.81907636],\n",
              "       [ 0.01744058, -0.32835977, -0.81907636],\n",
              "       [ 1.03038925,  1.89222109,  1.2208874 ],\n",
              "       [-1.08759434,  0.37435569,  1.2208874 ],\n",
              "       [ 0.938303  , -0.66566319, -0.81907636]])"
            ]
          },
          "metadata": {
            "tags": []
          },
          "execution_count": 49
        }
      ]
    },
    {
      "cell_type": "code",
      "metadata": {
        "id": "ShBSSmGbTBEm",
        "colab_type": "code",
        "colab": {}
      },
      "source": [
        "from torch.utils.data import Dataset\n",
        "## train data\n",
        "class trainData(Dataset):\n",
        "    \n",
        "    def __init__(self, X_data, y_data):\n",
        "        self.X_data = X_data\n",
        "        self.y_data = y_data\n",
        "        \n",
        "    def __getitem__(self, index):\n",
        "        return self.X_data[index], self.y_data[index]\n",
        "        \n",
        "    def __len__ (self):\n",
        "        return len(self.X_data)\n",
        "\n",
        "\n",
        "train_data = trainData(torch.FloatTensor(X_train), \n",
        "                       torch.FloatTensor(y_train))\n",
        "\n",
        "## test data    \n",
        "class testData(Dataset):\n",
        "    \n",
        "    def __init__(self, X_data):\n",
        "        self.X_data = X_data\n",
        "        \n",
        "    def __getitem__(self, index):\n",
        "        return self.X_data[index]\n",
        "        \n",
        "    def __len__ (self):\n",
        "        return len(self.X_data)\n",
        "    \n",
        "\n",
        "test_data = testData(torch.FloatTensor(X_test))"
      ],
      "execution_count": 50,
      "outputs": []
    },
    {
      "cell_type": "code",
      "metadata": {
        "id": "oI7uIeqRefYi",
        "colab_type": "code",
        "colab": {}
      },
      "source": [
        "from torch.utils.data import DataLoader\n",
        "train_loader = DataLoader(dataset=train_data, batch_size=1, shuffle=True)\n",
        "test_loader = DataLoader(dataset=test_data, batch_size=1)"
      ],
      "execution_count": 51,
      "outputs": []
    },
    {
      "cell_type": "markdown",
      "metadata": {
        "id": "r_6p-kVB5WZs",
        "colab_type": "text"
      },
      "source": [
        "## 4. Create the DNN"
      ]
    },
    {
      "cell_type": "code",
      "metadata": {
        "id": "MqMIlL0DaX1P",
        "colab_type": "code",
        "colab": {}
      },
      "source": [
        "class binaryClassification(nn.Module):\n",
        "    def __init__(self):\n",
        "        super(binaryClassification, self).__init__()\n",
        "        self.layer_1 = nn.Linear(3, 64) \n",
        "        self.layer_2 = nn.Linear(64, 64)\n",
        "        self.layer_out = nn.Linear(64, 1) \n",
        "        \n",
        "        self.relu = nn.ReLU()\n",
        "        self.dropout = nn.Dropout(p=0.1)\n",
        "        self.batchnorm1 = nn.BatchNorm1d(64)\n",
        "        self.batchnorm2 = nn.BatchNorm1d(64)\n",
        "        \n",
        "    def forward(self, inputs):\n",
        "        x = self.relu(self.layer_1(inputs))\n",
        "        x = self.batchnorm1(x)\n",
        "        x = self.relu(self.layer_2(x))\n",
        "        x = self.batchnorm2(x)\n",
        "        x = self.dropout(x)\n",
        "        x = self.layer_out(x)\n",
        "        \n",
        "        return x"
      ],
      "execution_count": 66,
      "outputs": []
    },
    {
      "cell_type": "code",
      "metadata": {
        "id": "FtHIHgY_XAzV",
        "colab_type": "code",
        "colab": {
          "base_uri": "https://localhost:8080/",
          "height": 168
        },
        "outputId": "db3ae32b-79ba-4e0e-d81f-0fdbe8883750"
      },
      "source": [
        "model = binaryClassification()\n",
        "model.to(device)\n",
        "criterion = nn.BCEWithLogitsLoss()\n",
        "optimizer = optim.Adam(model.parameters(), lr=0.001)\n",
        "print(model)"
      ],
      "execution_count": 60,
      "outputs": [
        {
          "output_type": "stream",
          "text": [
            "binaryClassification(\n",
            "  (layer_1): Linear(in_features=3, out_features=64, bias=True)\n",
            "  (layer_2): Linear(in_features=64, out_features=64, bias=True)\n",
            "  (layer_out): Linear(in_features=64, out_features=1, bias=True)\n",
            "  (relu): ReLU()\n",
            "  (dropout): Dropout(p=0.1, inplace=False)\n",
            "  (batchnorm1): BatchNorm1d(64, eps=1e-05, momentum=0.1, affine=True, track_running_stats=True)\n",
            "  (batchnorm2): BatchNorm1d(64, eps=1e-05, momentum=0.1, affine=True, track_running_stats=True)\n",
            ")\n"
          ],
          "name": "stdout"
        }
      ]
    },
    {
      "cell_type": "code",
      "metadata": {
        "id": "uSf-VLbWYzs_",
        "colab_type": "code",
        "colab": {}
      },
      "source": [
        "def binary_acc(y_pred, y_test):\n",
        "    y_pred_tag = torch.round(torch.sigmoid(y_pred))\n",
        "\n",
        "    correct_results_sum = (y_pred_tag == y_test).sum().float()\n",
        "    acc = correct_results_sum/y_test.shape[0]\n",
        "    acc = torch.round(acc * 100)\n",
        "    \n",
        "    return acc"
      ],
      "execution_count": 61,
      "outputs": []
    },
    {
      "cell_type": "code",
      "metadata": {
        "id": "VMJ5talAgjNf",
        "colab_type": "code",
        "colab": {}
      },
      "source": [
        "device = torch.device(\"cuda:0\" if torch.cuda.is_available() else \"cpu\")"
      ],
      "execution_count": 62,
      "outputs": []
    },
    {
      "cell_type": "markdown",
      "metadata": {
        "id": "MD3aTR9r5rPB",
        "colab_type": "text"
      },
      "source": [
        "## 5. Train the DNN on the dataset"
      ]
    },
    {
      "cell_type": "code",
      "metadata": {
        "id": "b5Y4P5ZscDzn",
        "colab_type": "code",
        "colab": {
          "base_uri": "https://localhost:8080/",
          "height": 100
        },
        "outputId": "17e27076-92b2-407d-e77b-cfd2c480fc87"
      },
      "source": [
        "model.train()\n",
        "EPOCHS = 50\n",
        "model.eval()\n",
        "\n",
        "for e in range(1, EPOCHS+1):\n",
        "    epoch_loss = 0\n",
        "    epoch_acc = 0\n",
        "    for X, y_batch in train_loader:\n",
        "        X, y_batch = X.to(device), y_batch.to(device)\n",
        "        optimizer.zero_grad()\n",
        "        y_pred = model(X)\n",
        "        \n",
        "        loss = criterion(y_pred, y_batch.unsqueeze(1))\n",
        "        acc = binary_acc(y_pred, y_batch.unsqueeze(1))\n",
        "        \n",
        "        loss.backward()\n",
        "        optimizer.step()\n",
        "        \n",
        "        epoch_loss += loss.item()\n",
        "        epoch_acc += acc.item()\n",
        "        \n",
        "    if (e%10 == 0):\n",
        "      print(f'Epoch {e+0:03}: | Loss: {epoch_loss/len(train_loader):.5f} | Acc: {epoch_acc/len(train_loader):.3f}')"
      ],
      "execution_count": 71,
      "outputs": [
        {
          "output_type": "stream",
          "text": [
            "Epoch 010: | Loss: 0.13905 | Acc: 94.776\n",
            "Epoch 020: | Loss: 0.12733 | Acc: 95.896\n",
            "Epoch 030: | Loss: 0.12497 | Acc: 94.776\n",
            "Epoch 040: | Loss: 0.11961 | Acc: 95.522\n",
            "Epoch 050: | Loss: 0.11677 | Acc: 95.896\n"
          ],
          "name": "stdout"
        }
      ]
    },
    {
      "cell_type": "markdown",
      "metadata": {
        "id": "AkEyXBsD5v9J",
        "colab_type": "text"
      },
      "source": [
        "## 6. Test the DNN and print the final report"
      ]
    },
    {
      "cell_type": "code",
      "metadata": {
        "id": "T2fMHA_6fuC2",
        "colab_type": "code",
        "colab": {}
      },
      "source": [
        "y_pred_list = []\n",
        "model.eval()\n",
        "with torch.no_grad():\n",
        "    for X_batch in test_loader:\n",
        "        X_batch = X_batch.to(device)\n",
        "        y_test_pred = model(X_batch)\n",
        "        y_test_pred = torch.sigmoid(y_test_pred)\n",
        "        y_pred_tag = torch.round(y_test_pred)\n",
        "        y_pred_list.append(y_pred_tag.cpu().numpy())\n",
        "\n",
        "y_pred_list = [a.squeeze().tolist() for a in y_pred_list]"
      ],
      "execution_count": 72,
      "outputs": []
    },
    {
      "cell_type": "code",
      "metadata": {
        "id": "tqcwR3NR2RWh",
        "colab_type": "code",
        "colab": {
          "base_uri": "https://localhost:8080/",
          "height": 168
        },
        "outputId": "5f555e2c-74a3-4196-ca10-beb0fc465d81"
      },
      "source": [
        "from sklearn.metrics import classification_report\n",
        "print(classification_report(y_test, y_pred_list))"
      ],
      "execution_count": 73,
      "outputs": [
        {
          "output_type": "stream",
          "text": [
            "              precision    recall  f1-score   support\n",
            "\n",
            "           0       0.88      0.89      0.88        82\n",
            "           1       0.82      0.80      0.81        50\n",
            "\n",
            "    accuracy                           0.86       132\n",
            "   macro avg       0.85      0.85      0.85       132\n",
            "weighted avg       0.86      0.86      0.86       132\n",
            "\n"
          ],
          "name": "stdout"
        }
      ]
    }
  ]
}
